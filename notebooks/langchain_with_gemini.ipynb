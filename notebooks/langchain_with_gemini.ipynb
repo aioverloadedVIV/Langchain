{
 "cells": [
  {
   "cell_type": "markdown",
   "id": "91b34db1",
   "metadata": {},
   "source": [
    "## LangChain with Gemini Models"
   ]
  },
  {
   "cell_type": "markdown",
   "id": "e90f4786",
   "metadata": {},
   "source": [
    "### 1. Authenticating to Gemini and Loading Packages"
   ]
  },
  {
   "cell_type": "code",
   "execution_count": null,
   "id": "ae296054",
   "metadata": {},
   "outputs": [
    {
     "name": "stdout",
     "output_type": "stream",
     "text": [
      "Loaded Successfully\n"
     ]
    }
   ],
   "source": [
    "import tqdm\n",
    "import langchain_google_genai\n",
    "import os\n",
    "from dotenv import find_dotenv, load_dotenv\n",
    "load_dotenv(find_dotenv(), override=True)\n",
    "print(\"Loaded Successfully\")\n",
    "\n",
    "\"\"\" \n",
    "Name: langchain-google-genai\n",
    "Version: 2.0.10\n",
    "Summary: An integration package connecting Google's genai package and LangChain\n",
    "Home-page: https://github.com/langchain-ai/langchain-google\n",
    "Author: \n",
    "Author-email: \n",
    "License: MIT\n",
    "Location: \n",
    "Requires: filetype, google-generativeai, langchain-core, pydantic\n",
    "\"\"\""
   ]
  },
  {
   "cell_type": "code",
   "execution_count": 22,
   "id": "f49c0893",
   "metadata": {},
   "outputs": [
    {
     "name": "stdout",
     "output_type": "stream",
     "text": [
      "Model APIs Provided by Google:\n",
      "\n"
     ]
    },
    {
     "name": "stderr",
     "output_type": "stream",
     "text": [
      "E0000 00:00:1759897600.880725  179531 alts_credentials.cc:93] ALTS creds ignored. Not running on GCP and untrusted ALTS is not enabled.\n"
     ]
    },
    {
     "name": "stdout",
     "output_type": "stream",
     "text": [
      "models/embedding-gecko-001\n",
      "models/gemini-2.5-pro-preview-03-25\n",
      "models/gemini-2.5-flash-preview-05-20\n",
      "models/gemini-2.5-flash\n",
      "models/gemini-2.5-flash-lite-preview-06-17\n",
      "models/gemini-2.5-pro-preview-05-06\n",
      "models/gemini-2.5-pro-preview-06-05\n",
      "models/gemini-2.5-pro\n",
      "models/gemini-2.0-flash-exp\n",
      "models/gemini-2.0-flash\n",
      "models/gemini-2.0-flash-001\n",
      "models/gemini-2.0-flash-exp-image-generation\n",
      "models/gemini-2.0-flash-lite-001\n",
      "models/gemini-2.0-flash-lite\n",
      "models/gemini-2.0-flash-preview-image-generation\n",
      "models/gemini-2.0-flash-lite-preview-02-05\n",
      "models/gemini-2.0-flash-lite-preview\n",
      "models/gemini-2.0-pro-exp\n",
      "models/gemini-2.0-pro-exp-02-05\n",
      "models/gemini-exp-1206\n",
      "models/gemini-2.0-flash-thinking-exp-01-21\n",
      "models/gemini-2.0-flash-thinking-exp\n",
      "models/gemini-2.0-flash-thinking-exp-1219\n",
      "models/gemini-2.5-flash-preview-tts\n",
      "models/gemini-2.5-pro-preview-tts\n",
      "models/learnlm-2.0-flash-experimental\n",
      "models/gemma-3-1b-it\n",
      "models/gemma-3-4b-it\n",
      "models/gemma-3-12b-it\n",
      "models/gemma-3-27b-it\n",
      "models/gemma-3n-e4b-it\n",
      "models/gemma-3n-e2b-it\n",
      "models/gemini-flash-latest\n",
      "models/gemini-flash-lite-latest\n",
      "models/gemini-pro-latest\n",
      "models/gemini-2.5-flash-lite\n",
      "models/gemini-2.5-flash-image-preview\n",
      "models/gemini-2.5-flash-image\n",
      "models/gemini-2.5-flash-preview-09-2025\n",
      "models/gemini-2.5-flash-lite-preview-09-2025\n",
      "models/gemini-robotics-er-1.5-preview\n",
      "models/gemini-2.5-computer-use-preview-10-2025\n",
      "models/embedding-001\n",
      "models/text-embedding-004\n",
      "models/gemini-embedding-exp-03-07\n",
      "models/gemini-embedding-exp\n",
      "models/gemini-embedding-001\n",
      "models/aqa\n",
      "models/imagen-3.0-generate-002\n",
      "models/imagen-4.0-generate-preview-06-06\n",
      "models/imagen-4.0-ultra-generate-preview-06-06\n",
      "models/imagen-4.0-generate-001\n",
      "models/imagen-4.0-ultra-generate-001\n",
      "models/imagen-4.0-fast-generate-001\n",
      "models/veo-2.0-generate-001\n",
      "models/veo-3.0-generate-preview\n",
      "models/veo-3.0-fast-generate-preview\n",
      "models/veo-3.0-generate-001\n",
      "models/veo-3.0-fast-generate-001\n",
      "models/gemini-2.5-flash-preview-native-audio-dialog\n",
      "models/gemini-2.5-flash-exp-native-audio-thinking-dialog\n",
      "models/gemini-2.0-flash-live-001\n",
      "models/gemini-live-2.5-flash-preview\n",
      "models/gemini-2.5-flash-live-preview\n",
      "models/gemini-2.5-flash-native-audio-latest\n",
      "models/gemini-2.5-flash-native-audio-preview-09-2025\n"
     ]
    }
   ],
   "source": [
    "# Enabling API\n",
    "import google.generativeai as genai\n",
    "genai.configure(api_key=os.environ.get(\"GOOGLE_API_KEY\"))\n",
    "\n",
    "# Checking the available models\n",
    "print(\"Model APIs Provided by Google:\\n\")\n",
    "for model in genai.list_models():\n",
    "    print(f'{model.name}')"
   ]
  },
  {
   "cell_type": "markdown",
   "id": "ec58bb9e",
   "metadata": {},
   "source": [
    "### 2. Integrating Gemini with LangChain"
   ]
  },
  {
   "cell_type": "code",
   "execution_count": null,
   "id": "1c00a2e3",
   "metadata": {},
   "outputs": [
    {
     "name": "stderr",
     "output_type": "stream",
     "text": [
      "E0000 00:00:1759898771.093628  179531 alts_credentials.cc:93] ALTS creds ignored. Not running on GCP and untrusted ALTS is not enabled.\n"
     ]
    },
    {
     "name": "stdout",
     "output_type": "stream",
     "text": [
      "Pinpointing the \"Top 5\" inventions in human history is challenging because impact can be measured in many ways and different inventions paved the way for others. However, here's a widely accepted list focusing on those that created fundamental shifts in human civilization:\n",
      "\n",
      "1.  **Agriculture (and Domestication of Animals):**\n",
      "    *   **Why:** This wasn't a single invention, but a revolutionary shift in human lifestyle. It allowed humans to settle down, grow their own food, and produce a surplus. This led directly to the formation of villages, then towns, then cities, specialization of labor, and the birth of complex societies and civilizations. Without it, none of the other inventions would have been possible on a large scale.\n",
      "\n",
      "2.  **The Wheel:**\n",
      "    *   **Why:** Invented independently in several cultures, the wheel revolutionized transportation (chariots, carts), pottery (potter's wheel), and mechanics (gears, water wheels). It vastly increased efficiency in moving goods, people, and harnessing power, fundamentally changing trade, warfare, and industry.\n",
      "\n",
      "3.  **Writing:**\n",
      "    *   **Why:** The ability to record and transmit information across time and distance transformed human knowledge. It allowed for complex laws, administrative records, literature, and the accumulation of scientific and historical knowledge that could be passed down through generations. It's the bedrock of education and organized society.\n",
      "\n",
      "4.  **The Printing Press (Gutenberg's moveable type):**\n",
      "    *   **Why:** While earlier forms of printing existed, Johannes Gutenberg's invention of the movable type printing press in the 15th century democratized knowledge. It drastically reduced the cost and time of producing books, leading to widespread literacy, the rapid dissemination of ideas (scientific, religious, political), and fueling the Renaissance, Reformation, and the Scientific Revolution.\n",
      "\n",
      "5.  **Harnessing Electricity (and its distribution):**\n",
      "    *   **Why:** While electricity itself is a natural phenomenon, its discovery, understanding, and the subsequent inventions for generating, transmitting, and utilizing it (light bulbs, motors, communication devices) fundamentally reshaped the modern world. It powers nearly every aspect of contemporary life, from lighting and heating to communication, industry, medicine, and computing, ushering in the second industrial revolution and the digital age.\n",
      "\n",
      "This list is, of course, open to debate, but these five represent monumental shifts that laid the foundation for virtually all subsequent human progress.\n"
     ]
    }
   ],
   "source": [
    "from langchain_google_genai import ChatGoogleGenerativeAI\n",
    "llm = ChatGoogleGenerativeAI(model=\"gemini-2.5-flash\", temperature=0.9)\n",
    "response = llm.invoke(\"List Top 5 Inventions in Human History\")\n",
    "# print(response.content) -> Full Response in one go\n",
    "\n",
    "# Stream like response\n",
    "response_stream = llm.stream(\"List Top 5 Inventions in Human History\")\n",
    "print(response_stream)"
   ]
  },
  {
   "cell_type": "code",
   "execution_count": 33,
   "id": "74b82454",
   "metadata": {},
   "outputs": [
    {
     "name": "stderr",
     "output_type": "stream",
     "text": [
      "E0000 00:00:1759900054.346598  179531 alts_credentials.cc:93] ALTS creds ignored. Not running on GCP and untrusted ALTS is not enabled.\n"
     ]
    },
    {
     "name": "stdout",
     "output_type": "stream",
     "text": [
      "Output from Method 1: LCEL Way\n",
      "\n",
      "Here's a tweet for you:\n",
      "\n",
      "Why am I so bullish on #DesiHipHop's potential? 🤔\n",
      "\n",
      "It's the *unparalleled storytelling* across diverse South Asian languages, the *🔥 fusion* of traditional melodies with hard-hitting beats, and the *untapped well of authentic narratives* rooted in culture & identity.\n",
      "\n",
      "This isn't just music; it's a global movement brewing. Get ready for the sound that's about to define a generation! 🚀\n",
      "\n",
      "#DHH #HipHop #MusicDiscovery #Culture\n",
      "\n",
      "\n",
      "\u001b[1m> Entering new LLMChain chain...\u001b[0m\n",
      "Prompt after formatting:\n",
      "\u001b[32;1m\u001b[1;3mYou are a content creator. Write a tweet about Why there's potential in Desi Hip Hop?\u001b[0m\n",
      "\n",
      "\u001b[1m> Finished chain.\u001b[0m\n",
      "\n",
      "Output from Method 2: Classical Chaining Way\n",
      "\n",
      "{'topic': \"Why there's potential in Desi Hip Hop?\", 'text': \"**Why is Desi Hip Hop bursting with potential? Let me tell you! 👇**\\n\\nIt's more than just beats; it's a cultural wave.\\n*   **Unmatched Fusion:** Blending traditional melodies & instruments with modern hip-hop rhythms creates a sound you can't find anywhere else.\\n*   **Authentic Voices:** Artists are telling *their* stories – identity, diaspora, struggle, triumph – resonating deeply with millions globally.\\n*   **Multi-Lingual Magic:** Rapping in Hindi, Punjabi, English, Tamil & more opens up huge, diverse audiences.\\n\\nIt's fresh, it's real, and it's only just getting started. Get ready! 🚀\\n\\n#DesiHipHop #IndianMusic #GlobalSound #MusicTrends\"}\n"
     ]
    }
   ],
   "source": [
    "from langchain.prompts import PromptTemplate\n",
    "from langchain.chains import LLMChain\n",
    "llm = ChatGoogleGenerativeAI(model=\"gemini-2.5-flash\", n=1)\n",
    "\n",
    "prompt = PromptTemplate.from_template(\"You are a content creator. Write a tweet about {topic}\")\n",
    "\n",
    "topic = \"Why there's potential in Desi Hip Hop?\"\n",
    "\n",
    "# Method 1 for chaining - LCEL Operator Style (prompt | llm)\n",
    "chain = prompt | llm\n",
    "response = chain.invoke(topic)\n",
    "print(\"Output from Method 1: LCEL Way\\n\")\n",
    "print(response.content)\n",
    "\n",
    "# Method 2 for chaining - Classic LLMChain\n",
    "\n",
    "chain_method_2 = LLMChain(\n",
    "    llm=llm,\n",
    "    prompt=prompt,\n",
    "    verbose=True\n",
    ")\n",
    "response_method_2 = chain_method_2.invoke(topic)\n",
    "print(\"\\nOutput from Method 2: Classical Chaining Way\\n\")\n",
    "print(response_method_2)\n"
   ]
  },
  {
   "cell_type": "code",
   "execution_count": 50,
   "id": "5c0b827e",
   "metadata": {},
   "outputs": [
    {
     "name": "stdout",
     "output_type": "stream",
     "text": [
      "Why there's potential in Desi Hip Hop?\n",
      "\n",
      "**Why is Desi Hip Hop bursting with potential? Let me tell you! 👇**\n",
      "\n",
      "It's more than just beats; it's a cultural wave.\n",
      "*   **Unmatched Fusion:** Blending traditional melodies & instruments with modern hip-hop rhythms creates a sound you can't find anywhere else.\n",
      "*   **Authentic Voices:** Artists are telling *their* stories – identity, diaspora, struggle, triumph – resonating deeply with millions globally.\n",
      "*   **Multi-Lingual Magic:** Rapping in Hindi, Punjabi, English, Tamil & more opens up huge, diverse audiences.\n",
      "\n",
      "It's fresh, it's real, and it's only just getting started. Get ready! 🚀\n",
      "\n",
      "#DesiHipHop #IndianMusic #GlobalSound #MusicTrends\n"
     ]
    }
   ],
   "source": [
    "print(response_method_2[\"topic\"])\n",
    "print()\n",
    "print(response_method_2[\"text\"])"
   ]
  },
  {
   "cell_type": "code",
   "execution_count": null,
   "id": "41e7e40a",
   "metadata": {},
   "outputs": [],
   "source": []
  },
  {
   "cell_type": "code",
   "execution_count": null,
   "id": "b42c3af3",
   "metadata": {},
   "outputs": [],
   "source": []
  },
  {
   "cell_type": "code",
   "execution_count": null,
   "id": "ef858af3",
   "metadata": {},
   "outputs": [],
   "source": []
  },
  {
   "cell_type": "code",
   "execution_count": null,
   "id": "17694293",
   "metadata": {},
   "outputs": [],
   "source": []
  },
  {
   "cell_type": "code",
   "execution_count": null,
   "id": "f9fd3f2a",
   "metadata": {},
   "outputs": [],
   "source": []
  },
  {
   "cell_type": "code",
   "execution_count": null,
   "id": "a80763b7",
   "metadata": {},
   "outputs": [],
   "source": []
  },
  {
   "cell_type": "code",
   "execution_count": null,
   "id": "ca877995",
   "metadata": {},
   "outputs": [],
   "source": []
  },
  {
   "cell_type": "code",
   "execution_count": null,
   "id": "eae96039",
   "metadata": {},
   "outputs": [],
   "source": []
  }
 ],
 "metadata": {
  "kernelspec": {
   "display_name": "llm (3.12.4)",
   "language": "python",
   "name": "python3"
  },
  "language_info": {
   "codemirror_mode": {
    "name": "ipython",
    "version": 3
   },
   "file_extension": ".py",
   "mimetype": "text/x-python",
   "name": "python",
   "nbconvert_exporter": "python",
   "pygments_lexer": "ipython3",
   "version": "3.12.4"
  }
 },
 "nbformat": 4,
 "nbformat_minor": 5
}
