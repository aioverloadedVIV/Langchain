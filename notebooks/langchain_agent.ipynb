{
 "cells": [
  {
   "cell_type": "markdown",
   "id": "1dc244cc",
   "metadata": {},
   "source": [
    "## LangChain Agent \n",
    "\n",
    "- An Agent in LangChain is an LLM-powered decision-maker that Chooses which tool to use, when to use it, and how to use it — all dynamically at runtime.\n",
    "\n",
    "- LangChain Agents are built on the ReAct Technique ~Reasoning (COT) + Acting (Tools/Actions) = ReAct~"
   ]
  },
  {
   "cell_type": "code",
   "execution_count": null,
   "id": "45a93947",
   "metadata": {},
   "outputs": [
    {
     "name": "stdout",
     "output_type": "stream",
     "text": [
      ".env file loaded\n",
      "\n",
      "Required packages loaded\n"
     ]
    }
   ],
   "source": [
    "# Loading Important Packages\n",
    "\n",
    "import langchainhub\n",
    "import os\n",
    "from dotenv import find_dotenv, load_dotenv\n",
    "load_dotenv(find_dotenv(), override=True)\n",
    "print(\".env file loaded\")\n",
    "\n",
    "from langchain.agents import Tool, AgentExecutor, initialize_agent, create_react_agent\n",
    "from langchain.tools import (\n",
    "    DuckDuckGoSearchRun,\n",
    "    DuckDuckGoSearchResults,\n",
    "    WikipediaQueryRun,\n",
    ")\n",
    "from langchain_experimental.tools.python.tool import PythonREPLTool\n",
    "from langchain.prompts import ChatPromptTemplate, PromptTemplate\n",
    "from langchain import hub\n",
    "from langchain_community.utilities import WikipediaAPIWrapper\n",
    "from langchain_openai import ChatOpenAI\n",
    "\n",
    "print(\"\\nRequired packages loaded\")"
   ]
  },
  {
   "cell_type": "code",
   "execution_count": null,
   "id": "7d3eb3ec",
   "metadata": {},
   "outputs": [
    {
     "name": "stdout",
     "output_type": "stream",
     "text": [
      "Answer the following questions as best you can. You have access to the following tools:\n",
      "\n",
      "{tools}\n",
      "\n",
      "Use the following format:\n",
      "\n",
      "Question: the input question you must answer\n",
      "Thought: you should always think about what to do\n",
      "Action: the action to take, should be one of [{tool_names}]\n",
      "Action Input: the input to the action\n",
      "Observation: the result of the action\n",
      "... (this Thought/Action/Action Input/Observation can repeat N times)\n",
      "Thought: I now know the final answer\n",
      "Final Answer: the final answer to the original input question\n",
      "\n",
      "Begin!\n",
      "\n",
      "Question: {input}\n",
      "Thought:{agent_scratchpad}\n"
     ]
    }
   ],
   "source": [
    "# Set the API Key\n",
    "api_key = os.environ.get(\"OPENAI_API_KEY\")\n",
    "\n",
    "# Set the model\n",
    "llm = ChatOpenAI(model=\"gpt-3.5-turbo\", temperature=0, api_key=api_key)  # type: ignore\n",
    "\n",
    "# Prompt Template\n",
    "template = \"\"\" \n",
    "Answer the following questions as best you can.\n",
    "Questions: {q}\n",
    "\"\"\"\n",
    "\n",
    "prompt_template = PromptTemplate.from_template(template)\n",
    "\n",
    "prompt = hub.pull(\"hwchase17/react\")  # Load ReAct Prompt from LangChain hub\n",
    "# print(type(prompt))\n",
    "# print(prompt.input_variables)\n",
    "print(prompt.template)\n",
    "\n",
    "\n",
    "# Defining Various Tools {tools} so that LLM can use it.\n",
    "\n",
    "## 1. Python REPL Tool (for executing Python Code)\n",
    "python_repl = PythonREPLTool()\n",
    "python_repl_tool = Tool(\n",
    "    name=\"python_repl\",\n",
    "    func=python_repl.run,\n",
    "    description=\"Useful when you need to use Python to answer a question. You should input Python Code.\",\n",
    ")\n",
    "\n",
    "## 2. Wikipedia Tool (for searching Wikipedia)\n",
    "api_wrapper = WikipediaAPIWrapper(top_k_results=5, doc_content_chars_max=500)  # type: ignore\n",
    "wikipedia = WikipediaQueryRun(api_wrapper=api_wrapper)\n",
    "wikipedia_tool = Tool(\n",
    "    name=\"wikipedia\",\n",
    "    func=wikipedia.run,\n",
    "    description=\"Useful for when you need to look up a topic, country, or person on Wikipedia\",\n",
    ")\n",
    "\n",
    "## 3. DuckDuckGo Search Tool (for general web searches)\n",
    "search = DuckDuckGoSearchRun()\n",
    "duckduckgo_tool = Tool(\n",
    "    name=\"duckduckgo\",\n",
    "    func=search.run,\n",
    "    description=\"Useful for when you need to perform an internet search to find information that another tool can't provide.\",\n",
    ")\n",
    "\n",
    "tools = [python_repl_tool, wikipedia_tool, duckduckgo_tool]\n",
    "\n",
    "# Loading the ReAct Agent and initializing the agent\n",
    "agent = create_react_agent(llm=llm, tools=tools, prompt=prompt)\n",
    "\n",
    "agent_executor = AgentExecutor(\n",
    "    agent=agent,\n",
    "    tools=tools,\n",
    "    verbose=True,\n",
    "    handle_parsing_errors=True,  # handles potential parsing errors for debugging purposes. Making agents more robust and less failures\n",
    "    max_iterations=10,  # Stops getting stuck in loops.\n",
    ")"
   ]
  },
  {
   "cell_type": "markdown",
   "id": "d5a604d5",
   "metadata": {},
   "source": [
    "### Testing the React Agent"
   ]
  },
  {
   "cell_type": "code",
   "execution_count": 27,
   "id": "3d1f5b98",
   "metadata": {},
   "outputs": [
    {
     "name": "stdout",
     "output_type": "stream",
     "text": [
      "\n",
      "\n",
      "\u001b[1m> Entering new AgentExecutor chain...\u001b[0m\n"
     ]
    },
    {
     "name": "stderr",
     "output_type": "stream",
     "text": [
      "Python REPL can execute arbitrary code. Use with caution.\n"
     ]
    },
    {
     "name": "stdout",
     "output_type": "stream",
     "text": [
      "\u001b[32;1m\u001b[1;3mI should use Python to generate the Fibonacci Series.\n",
      "Action: python_repl\n",
      "Action Input: \n",
      "```python\n",
      "def fibonacci(n):\n",
      "    fib_series = [0, 1]\n",
      "    for i in range(2, n):\n",
      "        fib_series.append(fib_series[i-1] + fib_series[i-2])\n",
      "    return fib_series\n",
      "\n",
      "fibonacci(20)\n",
      "```\u001b[0m\u001b[36;1m\u001b[1;3m\u001b[0m\u001b[32;1m\u001b[1;3mI now know the final answer\n",
      "Final Answer: [0, 1, 1, 2, 3, 5, 8, 13, 21, 34, 55, 89, 144, 233, 377, 610, 987, 1597, 2584, 4181]\u001b[0m\n",
      "\n",
      "\u001b[1m> Finished chain.\u001b[0m\n"
     ]
    }
   ],
   "source": [
    "question = 'Generate the first 20 numbers in the Fibonacci Series.'\n",
    "\n",
    "output = agent_executor.invoke({\n",
    "    'input': prompt_template.format(q=question)\n",
    "})"
   ]
  },
  {
   "cell_type": "code",
   "execution_count": null,
   "id": "807a2b62",
   "metadata": {},
   "outputs": [
    {
     "name": "stdout",
     "output_type": "stream",
     "text": [
      " \n",
      "Answer the following questions as best you can.\n",
      "Questions: Generate the first 20 numbers in the Fibonacci Series.\n",
      "\n"
     ]
    }
   ],
   "source": [
    "print(output['input']) # Contains User Prompt"
   ]
  },
  {
   "cell_type": "code",
   "execution_count": null,
   "id": "e9ec1c2d",
   "metadata": {},
   "outputs": [
    {
     "name": "stdout",
     "output_type": "stream",
     "text": [
      "[0, 1, 1, 2, 3, 5, 8, 13, 21, 34, 55, 89, 144, 233, 377, 610, 987, 1597, 2584, 4181]\n"
     ]
    }
   ],
   "source": [
    "print(output['output']) # Contains Agent Response"
   ]
  },
  {
   "cell_type": "code",
   "execution_count": null,
   "id": "5c9f2c65",
   "metadata": {},
   "outputs": [
    {
     "name": "stdout",
     "output_type": "stream",
     "text": [
      "\n",
      "\n",
      "\u001b[1m> Entering new AgentExecutor chain...\u001b[0m\n",
      "\u001b[32;1m\u001b[1;3mI should use the wikipedia tool to look up the current President of India.\n",
      "Action: wikipedia\n",
      "Action Input: \"President of India\"\u001b[0m\u001b[33;1m\u001b[1;3mPage: President of India\n",
      "Summary: The president of India  (ISO: Bhārata kē Rāṣṭrapati) is the head of state of the Republic of India. The president is the nominal head of the executive, the first citizen of the country, and the supreme commander of the Indian Armed Forces. Droupadi Murmu is the 15th and current president, having taken office on 25 July 2022.\n",
      "The office of president was created when India's  constitution came into force and it became a republic on 26 January 1950. The president i\u001b[0m\u001b[32;1m\u001b[1;3mI now know the final answer\n",
      "Final Answer: The current President of India is Droupadi Murmu.\u001b[0m\n",
      "\n",
      "\u001b[1m> Finished chain.\u001b[0m\n"
     ]
    }
   ],
   "source": [
    "question_2 = \"Who is the current President of India?\"\n",
    "\n",
    "output = agent_executor.invoke({\"input\": prompt_template.format(q=question_2)})"
   ]
  },
  {
   "cell_type": "code",
   "execution_count": 32,
   "id": "4cdafd82",
   "metadata": {},
   "outputs": [
    {
     "name": "stdout",
     "output_type": "stream",
     "text": [
      "Agent Answers:\n",
      "The current President of India is Droupadi Murmu.\n"
     ]
    }
   ],
   "source": [
    "print(f\"Agent Answers:\\n{output['output']}\")"
   ]
  },
  {
   "cell_type": "code",
   "execution_count": null,
   "id": "aa72a79d",
   "metadata": {},
   "outputs": [],
   "source": []
  }
 ],
 "metadata": {
  "kernelspec": {
   "display_name": "llm (3.12.4)",
   "language": "python",
   "name": "python3"
  },
  "language_info": {
   "codemirror_mode": {
    "name": "ipython",
    "version": 3
   },
   "file_extension": ".py",
   "mimetype": "text/x-python",
   "name": "python",
   "nbconvert_exporter": "python",
   "pygments_lexer": "ipython3",
   "version": "3.12.4"
  }
 },
 "nbformat": 4,
 "nbformat_minor": 5
}
